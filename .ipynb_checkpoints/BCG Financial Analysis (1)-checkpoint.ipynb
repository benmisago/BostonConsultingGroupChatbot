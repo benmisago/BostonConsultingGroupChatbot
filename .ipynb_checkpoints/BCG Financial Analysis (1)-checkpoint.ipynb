{
 "cells": [
  {
   "cell_type": "code",
   "id": "1c1bfa0f-b2e1-4fd5-ad07-db375b0fdc20",
   "metadata": {
    "editable": true,
    "scrolled": true,
    "slideshow": {
     "slide_type": ""
    },
    "tags": [],
    "ExecuteTime": {
     "end_time": "2025-08-06T01:51:47.065508Z",
     "start_time": "2025-08-06T01:51:33.180358Z"
    }
   },
   "source": [
    "import pandas as pd\n",
    "\n",
    "# Create the DataFrame with your financial data\n",
    "data = [\n",
    "    {\"Company\": \"Apple\", \"Year\": 2022, \"Total Revenue\": 394328, \"Net Income\": 99803, \"Total Assets\": 352755, \"Total Liabilities\": 302083, \"Cash Flow from Operations\": 122151},\n",
    "    {\"Company\": \"Apple\", \"Year\": 2021, \"Total Revenue\": 365817, \"Net Income\": 94680, \"Total Assets\": 351002, \"Total Liabilities\": 287912, \"Cash Flow from Operations\": 104038},\n",
    "    {\"Company\": \"Apple\", \"Year\": 2020, \"Total Revenue\": 274515, \"Net Income\": 57411, \"Total Assets\": 323888, \"Total Liabilities\": 105392, \"Cash Flow from Operations\": 80674},\n",
    "    {\"Company\": \"Tesla\", \"Year\": 2024, \"Total Revenue\": 97690, \"Net Income\": 7091, \"Total Assets\": 122070, \"Total Liabilities\": 48390, \"Cash Flow from Operations\": 14923},\n",
    "    {\"Company\": \"Tesla\", \"Year\": 2023, \"Total Revenue\": 96773, \"Net Income\": 14997, \"Total Assets\": 106618, \"Total Liabilities\": 43009, \"Cash Flow from Operations\": 13256},\n",
    "    {\"Company\": \"Tesla\", \"Year\": 2022, \"Total Revenue\": 81462, \"Net Income\": 12556, \"Total Assets\": 4828, \"Total Liabilities\": 2215, \"Cash Flow from Operations\": 14724},\n",
    "    {\"Company\": \"Microsoft\", \"Year\": 2024, \"Total Revenue\": 245122, \"Net Income\": 88136, \"Total Assets\": 512163, \"Total Liabilities\": 243686, \"Cash Flow from Operations\": 118548},\n",
    "    {\"Company\": \"Microsoft\", \"Year\": 2023, \"Total Revenue\": 211915, \"Net Income\": 72361, \"Total Assets\": 411976, \"Total Liabilities\": 205753, \"Cash Flow from Operations\": 87582},\n",
    "    {\"Company\": \"Microsoft\", \"Year\": 2022, \"Total Revenue\": 198270, \"Net Income\": 72738, \"Total Assets\": 364840, \"Total Liabilities\": 198298, \"Cash Flow from Operations\": 89035},\n",
    "]\n",
    "\n",
    "df = pd.DataFrame(data)\n",
    "\n",
    "# Sort by Company and Year ascending to calculate changes correctly\n",
    "df = df.sort_values(by=['Company', 'Year']).reset_index(drop=True)\n",
    "\n",
    "# Calculate year-over-year % growth grouped by company\n",
    "df['Revenue Growth (%)'] = df.groupby('Company')['Total Revenue'].pct_change() * 100\n",
    "df['Net Income Growth (%)'] = df.groupby('Company')['Net Income'].pct_change() * 100\n",
    "df['Total Assets Growth (%)'] = df.groupby('Company')['Total Assets'].pct_change() * 100\n",
    "df['Total Liabilities Growth (%)'] = df.groupby('Company')['Total Liabilities'].pct_change() * 100\n",
    "df['Cash Flow Growth (%)'] = df.groupby('Company')['Cash Flow from Operations'].pct_change() * 100\n",
    "\n",
    "print(df)\n",
    "\n",
    "# Calculate average growth per company\n",
    "avg_growth = df.groupby('Company')[['Revenue Growth (%)', 'Net Income Growth (%)', 'Total Assets Growth (%)', \n",
    "                                   'Total Liabilities Growth (%)', 'Cash Flow Growth (%)']].mean()\n",
    "\n",
    "print(\"\\nAverage Growth Rates by Company:\")\n",
    "print(avg_growth)\n"
   ],
   "outputs": [
    {
     "name": "stdout",
     "output_type": "stream",
     "text": [
      "     Company  Year  Total Revenue  Net Income  Total Assets  \\\n",
      "0      Apple  2020         274515       57411        323888   \n",
      "1      Apple  2021         365817       94680        351002   \n",
      "2      Apple  2022         394328       99803        352755   \n",
      "3  Microsoft  2022         198270       72738        364840   \n",
      "4  Microsoft  2023         211915       72361        411976   \n",
      "5  Microsoft  2024         245122       88136        512163   \n",
      "6      Tesla  2022          81462       12556          4828   \n",
      "7      Tesla  2023          96773       14997        106618   \n",
      "8      Tesla  2024          97690        7091        122070   \n",
      "\n",
      "   Total Liabilities  Cash Flow from Operations  Revenue Growth (%)  \\\n",
      "0             105392                      80674                 NaN   \n",
      "1             287912                     104038           33.259385   \n",
      "2             302083                     122151            7.793788   \n",
      "3             198298                      89035                 NaN   \n",
      "4             205753                      87582            6.882030   \n",
      "5             243686                     118548           15.669962   \n",
      "6               2215                      14724                 NaN   \n",
      "7              43009                      13256           18.795267   \n",
      "8              48390                      14923            0.947578   \n",
      "\n",
      "   Net Income Growth (%)  Total Assets Growth (%)  \\\n",
      "0                    NaN                      NaN   \n",
      "1              64.916131                 8.371412   \n",
      "2               5.410858                 0.499427   \n",
      "3                    NaN                      NaN   \n",
      "4              -0.518299                12.919636   \n",
      "5              21.800417                24.318650   \n",
      "6                    NaN                      NaN   \n",
      "7              19.440905              2108.326429   \n",
      "8             -52.717210                14.492862   \n",
      "\n",
      "   Total Liabilities Growth (%)  Cash Flow Growth (%)  \n",
      "0                           NaN                   NaN  \n",
      "1                    173.182025             28.961004  \n",
      "2                      4.921990             17.409985  \n",
      "3                           NaN                   NaN  \n",
      "4                      3.759493             -1.631942  \n",
      "5                     18.436183             35.356580  \n",
      "6                           NaN                   NaN  \n",
      "7                   1841.715576             -9.970117  \n",
      "8                     12.511335             12.575438  \n",
      "\n",
      "Average Growth Rates by Company:\n",
      "           Revenue Growth (%)  Net Income Growth (%)  Total Assets Growth (%)  \\\n",
      "Company                                                                         \n",
      "Apple               20.526586              35.163494                 4.435420   \n",
      "Microsoft           11.275996              10.641059                18.619143   \n",
      "Tesla                9.871422             -16.638153              1061.409646   \n",
      "\n",
      "           Total Liabilities Growth (%)  Cash Flow Growth (%)  \n",
      "Company                                                        \n",
      "Apple                         89.052008             23.185494  \n",
      "Microsoft                     11.097838             16.862319  \n",
      "Tesla                        927.113455              1.302660  \n"
     ]
    }
   ],
   "execution_count": 1
  },
  {
   "cell_type": "code",
   "id": "06108812-97e4-4245-bd12-162db27ad98e",
   "metadata": {
    "ExecuteTime": {
     "end_time": "2025-08-06T01:51:52.189065Z",
     "start_time": "2025-08-06T01:51:52.157818Z"
    }
   },
   "source": [],
   "outputs": [],
   "execution_count": null
  },
  {
   "metadata": {},
   "cell_type": "code",
   "outputs": [],
   "execution_count": null,
   "source": "",
   "id": "62cb8fde282a3de7"
  }
 ],
 "metadata": {
  "kernelspec": {
   "display_name": "Python 3 (ipykernel)",
   "language": "python",
   "name": "python3"
  },
  "language_info": {
   "codemirror_mode": {
    "name": "ipython",
    "version": 3
   },
   "file_extension": ".py",
   "mimetype": "text/x-python",
   "name": "python",
   "nbconvert_exporter": "python",
   "pygments_lexer": "ipython3",
   "version": "3.10.14"
  }
 },
 "nbformat": 4,
 "nbformat_minor": 5
}
